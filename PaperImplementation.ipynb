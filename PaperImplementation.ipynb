{
 "cells": [
  {
   "metadata": {},
   "cell_type": "markdown",
   "source": [
    "# Paper Implementation: An Improved Collaborative Filtering Recommendation Algorithm and Recommendation Strategy\n",
    "\n",
    "This project is based on the paper “An Improved Collaborative Filtering Recommendation Algorithm and Recommendation Strategy” by Xiaofeng Li and Dong Li ​. All research rights and intellectual property belong to the original authors under the Creative Commons Attribution License. We—Matteo and Julian, students at the University of Bolzano—have chosen this work as the foundation for a full analysis and software implementation of its proposed methods, in order to both validate and extend its contributions to community‑aware collaborative filtering.\n",
    "\n",
    "## 1. Introduction\n",
    "\n",
    "Li & Li (2019) address key limitations of traditional collaborative filtering (CF)—data sparsity, cold start, and scalability—by integrating overlapping community detection into the CF pipeline. They propose two algorithms to mine user communities from a social network projection of user–item interactions (central‑node‐based and k‑faction). By localizing neighbor selection within these communities and combining rating‐based similarity with category‐based similarity, they demonstrate significant reductions in MAE and RMSE on MovieLens‑100K.\n",
    "\n",
    "## 2. Implementation Roadmap\n",
    "\n",
    "Below is our high‑level plan to reproduce and extend Li & Li’s community‑aware CF framework:\n",
    "\n",
    "1. **Dataset Preparation**\n",
    "   - Download and preprocess the MovieLens 100K dataset.\n",
    "   - Build the user–item rating matrix.\n",
    "\n",
    "2. **Community Detection**\n",
    "   1. **Central‑Node Algorithm**\n",
    "      - Compute node degrees; seed each community with the highest‑degree node.\n",
    "      - Iteratively add neighbors that maximize the local contribution \\(q\\).\n",
    "      - Merge any two communities whose overlap \\(S \\ge 0.7\\).\n",
    "   2. **k‑Faction Algorithm**\n",
    "      - Use Bron–Kerbosch to extract all cliques of size ≥ *k*.\n",
    "      - Merge cliques based on an overlap threshold \\(T\\) and inter‑community connectivity.\n",
    "      - Assign remaining nodes to their closest community; refine by maximizing modularity \\(Q_c\\).\n",
    "\n",
    "3. **Community‑Based Collaborative Filtering**\n",
    "   - For each target user, restrict neighbor search to their detected community.\n",
    "   - Construct a user–category binary matrix (e.g. item genres or tags).\n",
    "   - Compute hybrid similarity:\n",
    "     \\[\n",
    "       \\text{sim}(u,v) = (1 - \\lambda)\\,\\text{sim}_R(u,v) + \\lambda\\,\\text{sim}_{\\text{cate}}(u,v).\n",
    "     \\]\n",
    "   - Predict ratings by aggregating the top‑*K* most similar users’ ratings.\n",
    "\n",
    "4. **Evaluation Framework**\n",
    "   - Perform 5‑fold cross‑validation with varying training:test splits (20–80 %).\n",
    "   - Measure MAE and RMSE for:\n",
    "     - **CFCD** (Community‑based CF)\n",
    "     - **CFC** (Cosine CF)\n",
    "     - **CFP** (Pearson CF)\n",
    "\n",
    "5. **Parameter Tuning & Experiments**\n",
    "   - **Experiment 1:** Fix *K* = 30; vary train:test ratio → assess sparsity impact.\n",
    "   - **Experiment 2:** Fix training ratio at 80 %; vary *K* → find optimal neighbor set size.\n",
    "\n",
    "6. **Optimizations & Extensions**\n",
    "   - Scale community detection to large graphs (e.g. using NetworkX/igraph).\n",
    "   - Incorporate implicit feedback (timestamps, clicks).\n",
    "   - Prototype a real‑time recommendation pipeline with incremental updates.\n",
    "   - Explore deep‑learning–based community embeddings as an alternative to classic detection.\n",
    "\n",
    "7. **Documentation & Reporting**\n",
    "   - Write clear API docs and usage examples for each module.\n",
    "   - Produce reproducible scripts and Jupyter notebooks.\n",
    "   - Summarize results with tables, charts, and a discussion of future work."
   ],
   "id": "b319407f4bf8deb"
  },
  {
   "metadata": {},
   "cell_type": "code",
   "outputs": [],
   "execution_count": null,
   "source": "",
   "id": "fa463d83ffce651a"
  }
 ],
 "metadata": {
  "kernelspec": {
   "display_name": "Python 3",
   "language": "python",
   "name": "python3"
  },
  "language_info": {
   "codemirror_mode": {
    "name": "ipython",
    "version": 2
   },
   "file_extension": ".py",
   "mimetype": "text/x-python",
   "name": "python",
   "nbconvert_exporter": "python",
   "pygments_lexer": "ipython2",
   "version": "2.7.6"
  }
 },
 "nbformat": 4,
 "nbformat_minor": 5
}
